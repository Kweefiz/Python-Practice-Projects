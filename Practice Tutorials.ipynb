{
  "nbformat": 4,
  "nbformat_minor": 0,
  "metadata": {
    "colab": {
      "provenance": [],
      "toc_visible": true,
      "authorship_tag": "ABX9TyNg4gXpIpXbb5ioXQqf7R/C",
      "include_colab_link": true
    },
    "kernelspec": {
      "name": "python3",
      "display_name": "Python 3"
    },
    "language_info": {
      "name": "python"
    }
  },
  "cells": [
    {
      "cell_type": "markdown",
      "metadata": {
        "id": "view-in-github",
        "colab_type": "text"
      },
      "source": [
        "<a href=\"https://colab.research.google.com/github/Kweefiz/Python-Practice-Projects/blob/main/Practice%20Tutorials.ipynb\" target=\"_parent\"><img src=\"https://colab.research.google.com/assets/colab-badge.svg\" alt=\"Open In Colab\"/></a>"
      ]
    },
    {
      "cell_type": "markdown",
      "source": [
        "#1: Character Input\n",
        "---\n"
      ],
      "metadata": {
        "id": "0dksr6IPAlcS"
      }
    },
    {
      "cell_type": "code",
      "source": [
        "\n",
        "name = input(\"Tell me your name \")\n",
        "while True:\n",
        "  try:\n",
        "    age = int(input(\"Tell me your age as an integer \"))\n",
        "    break\n",
        "  except:\n",
        "    print(\"Please enter a number\")\n",
        "\n",
        "print(name + \" will be 100 in the year \" +str(2024 + 100 - age))"
      ],
      "metadata": {
        "colab": {
          "base_uri": "https://localhost:8080/"
        },
        "id": "Jh13kjAHAwVb",
        "outputId": "51b9968e-d19e-49b5-e1c8-b9003cc36001"
      },
      "execution_count": null,
      "outputs": [
        {
          "output_type": "stream",
          "name": "stdout",
          "text": [
            "Tell me your name dan\n",
            "Tell me your age as an integer 25\n",
            "dan will be 100 in the year 2099\n"
          ]
        }
      ]
    },
    {
      "cell_type": "code",
      "source": [],
      "metadata": {
        "id": "aEJiWq8AEtLA"
      },
      "execution_count": null,
      "outputs": []
    },
    {
      "cell_type": "markdown",
      "source": [
        "#2: Odd or Even\n",
        "---\n"
      ],
      "metadata": {
        "id": "3cDi1NSsCjxc"
      }
    },
    {
      "cell_type": "code",
      "source": [
        "#part 1\n",
        "number = int(input(\"Pick a number\"))\n",
        "if number % 4 == 0:\n",
        "  print(\"It's a multiple of 4 and is an even number\")\n",
        "elif number % 2 == 0:\n",
        "  print(\"It's an even number\")\n",
        "else:\n",
        "  print(\"It's an odd number\")"
      ],
      "metadata": {
        "colab": {
          "base_uri": "https://localhost:8080/"
        },
        "id": "7fo2zB81C-OQ",
        "outputId": "1bae7e69-85b6-451c-b8b8-d433f07eaff9"
      },
      "execution_count": null,
      "outputs": [
        {
          "output_type": "stream",
          "name": "stdout",
          "text": [
            "Pick a number5\n",
            "It's an odd number\n"
          ]
        }
      ]
    },
    {
      "cell_type": "code",
      "source": [
        "#part 2\n",
        "check = int(input(\"Pick a Numerator \"))\n",
        "num = int(input(\"Pick a Divisor \"))\n",
        "if check % num == 0:\n",
        "  print(\"It's a multiple\")\n",
        "else:\n",
        "  print(\"It's not a multiple\")"
      ],
      "metadata": {
        "colab": {
          "base_uri": "https://localhost:8080/"
        },
        "id": "8u4uCFBxDhPk",
        "outputId": "131d1935-e585-4416-8afe-69f064ba7948"
      },
      "execution_count": null,
      "outputs": [
        {
          "output_type": "stream",
          "name": "stdout",
          "text": [
            "Pick a Numerator25\n",
            "Pick a Divisor3\n",
            "It's not a multiple\n"
          ]
        }
      ]
    },
    {
      "cell_type": "markdown",
      "source": [
        "#3: List Less than Ten\n",
        "---"
      ],
      "metadata": {
        "id": "OiVBYlSEEkWM"
      }
    },
    {
      "cell_type": "code",
      "source": [
        "#printing all numbers < 5 in a list\n",
        "a = [1, 1, 2, 3, 5, 8, 13, 21, 34, 55, 89]\n",
        "b = [i for i in a if i < 5]\n",
        "print(b)"
      ],
      "metadata": {
        "colab": {
          "base_uri": "https://localhost:8080/"
        },
        "id": "cNdLHyhIEkJC",
        "outputId": "3e5c2bc5-7671-43b0-ec87-346edbecc64d"
      },
      "execution_count": null,
      "outputs": [
        {
          "output_type": "stream",
          "name": "stdout",
          "text": [
            "[1, 1, 2, 3]\n"
          ]
        }
      ]
    },
    {
      "cell_type": "markdown",
      "source": [
        "#4: Divisors\n",
        "---"
      ],
      "metadata": {
        "id": "pAt7gOejFEvJ"
      }
    },
    {
      "cell_type": "code",
      "source": [
        "#printing divisors of a number given by the user\n",
        "usernum = int(input(\"Pick a number \"))\n",
        "divisors = [i for i in range(1,usernum+1) if usernum % i == 0]\n",
        "print(\"it's divisors are\", divisors)"
      ],
      "metadata": {
        "colab": {
          "base_uri": "https://localhost:8080/"
        },
        "id": "ZgOqtRpsE0NS",
        "outputId": "4452fa99-4a3f-4211-ab21-685a67120da5"
      },
      "execution_count": null,
      "outputs": [
        {
          "output_type": "stream",
          "name": "stdout",
          "text": [
            "Pick a number50\n",
            "it's divisors are [1, 2, 5, 10, 25, 50]\n"
          ]
        }
      ]
    },
    {
      "cell_type": "markdown",
      "source": [
        "#5: List Overlap\n",
        "---"
      ],
      "metadata": {
        "id": "rX3WhXJLGK2b"
      }
    },
    {
      "cell_type": "code",
      "source": [
        "import random\n",
        "def list_generate(count, lower_bound = 0, upper_bound = 100):\n",
        "    return [random.randint(lower_bound, upper_bound) for i in range(count)]\n",
        "\n",
        "a = list_generate(int(input(\"How many numbers for list a? \")))\n",
        "b = list_generate(int(input(\"How many numbers for list b? \")))\n",
        "c = [i for i in a if i in b]\n",
        "print(a)\n",
        "print(b)\n",
        "print(c)"
      ],
      "metadata": {
        "colab": {
          "base_uri": "https://localhost:8080/"
        },
        "id": "93iWplifGPVv",
        "outputId": "8fc34364-d09d-4a4c-f4cd-a8110a2363d5"
      },
      "execution_count": null,
      "outputs": [
        {
          "output_type": "stream",
          "name": "stdout",
          "text": [
            "How many numbers for list a? 5\n",
            "How many numbers for list b? 10\n",
            "[43, 54, 25, 20, 98]\n",
            "[91, 99, 9, 48, 26, 93, 9, 49, 22, 9]\n",
            "[]\n"
          ]
        }
      ]
    },
    {
      "cell_type": "markdown",
      "source": [
        "#6: String Lists\n",
        "---"
      ],
      "metadata": {
        "id": "ZZk8YlbNaOUa"
      }
    },
    {
      "cell_type": "code",
      "source": [
        "inp = (input(\"Pick a word \")).lower()\n",
        "word_check = [i for i in inp]\n",
        "word_copy = word_check[::-1]\n",
        "for i in word_check:\n",
        "  if i != word_copy[word_check.index(i)]:\n",
        "    print(\"Not a palindrome\")\n",
        "    break\n",
        "else:\n",
        "  print(\"It's a palindrome\")"
      ],
      "metadata": {
        "colab": {
          "base_uri": "https://localhost:8080/"
        },
        "id": "oC-AoNU7aUWh",
        "outputId": "3d2a20c4-d642-4464-f204-14d08d6c6332"
      },
      "execution_count": null,
      "outputs": [
        {
          "output_type": "stream",
          "name": "stdout",
          "text": [
            "Pick a word Danial\n",
            "Not a palindrome\n"
          ]
        }
      ]
    },
    {
      "cell_type": "markdown",
      "source": [
        "#7: List Comprehensions\n",
        "---"
      ],
      "metadata": {
        "id": "4U12e1z0fTI5"
      }
    },
    {
      "cell_type": "code",
      "source": [
        "a = [1, 4, 9, 16, 25, 36, 49, 64, 81, 100]\n",
        "b = [i for i in a if i % 2 == 0]\n",
        "print(a)\n",
        "print(b)"
      ],
      "metadata": {
        "colab": {
          "base_uri": "https://localhost:8080/"
        },
        "id": "WmfcHGGbfYl8",
        "outputId": "7d33ec60-8a47-4b23-eb51-608f81f236cc"
      },
      "execution_count": null,
      "outputs": [
        {
          "output_type": "stream",
          "name": "stdout",
          "text": [
            "[1, 4, 9, 16, 25, 36, 49, 64, 81, 100]\n",
            "[4, 16, 36, 64, 100]\n"
          ]
        }
      ]
    },
    {
      "cell_type": "markdown",
      "source": [
        "#8: Rock Paper Scissors\n",
        "---"
      ],
      "metadata": {
        "id": "6w1CKf31fmhd"
      }
    },
    {
      "cell_type": "code",
      "source": [
        "def check_win(p1,p2):\n",
        "  if p1 == p2:\n",
        "    return \"It's a tie!\"\n",
        "\n",
        "  elif p1 == \"scissors\":\n",
        "    if p2 == \"paper\":\n",
        "      return \"Player 1 wins!\"\n",
        "    elif p2 == \"rock\":\n",
        "      return \"Player 2 wins!\"\n",
        "\n",
        "  elif p1 == \"paper\":\n",
        "    if p2 == \"rock\":\n",
        "      return \"Player 1 wins!\"\n",
        "    elif p2 == \"scissors\":\n",
        "      return \"Player 2 wins!\"\n",
        "\n",
        "  elif p1 == \"rock\":\n",
        "    if p2 == \"scissors\":\n",
        "      return \"Player 1 wins!\"\n",
        "    elif p2 == \"paper\":\n",
        "      return \"Player 2 wins!\"\n",
        "user1 = input(\"Player 1, pick rock, paper or scissors \")\n",
        "user2 = input(\"Player 2, pick rock, paper or scissors \")\n",
        "print(check_win(user1,user2))\n",
        "check_restart = input(\"Would you like to start a new game? y/n\")\n",
        "if check_restart == \"y\":\n"
      ],
      "metadata": {
        "colab": {
          "base_uri": "https://localhost:8080/"
        },
        "id": "CDhnDSMSfqx9",
        "outputId": "1acde0df-4d13-4dc4-b75c-c5e06eff7503"
      },
      "execution_count": null,
      "outputs": [
        {
          "output_type": "stream",
          "name": "stdout",
          "text": [
            "Player 1, pick rock, paper or scissors scissors\n",
            "Player 2, pick rock, paper or scissors paper\n",
            "Player 1 wins!\n"
          ]
        }
      ]
    },
    {
      "cell_type": "markdown",
      "source": [
        "#9: Guessing Game One\n",
        "---"
      ],
      "metadata": {
        "id": "iP72qJj3ZmG_"
      }
    },
    {
      "cell_type": "code",
      "source": [
        "import random\n",
        "\n",
        "randnum = random.randint(1,10)\n",
        "count = 0\n",
        "while True:\n",
        "  user_number = int(input(\"Guess a number between 1 and 10 \"))\n",
        "  count += 1\n",
        "  if user_number == randnum:\n",
        "    print(\"You Win!\")\n",
        "    break\n",
        "  elif user_number < randnum:\n",
        "    print(\"Your guess was lower, try again\")\n",
        "  else:\n",
        "    print(\"Your guess was higher, try again\")\n",
        "print(f\"you took {count} tries!\")\n"
      ],
      "metadata": {
        "colab": {
          "base_uri": "https://localhost:8080/"
        },
        "id": "_w5e2SkuZs2c",
        "outputId": "edbb5eda-25b7-426c-fa0f-23fbd7ce4d67"
      },
      "execution_count": null,
      "outputs": [
        {
          "output_type": "stream",
          "name": "stdout",
          "text": [
            "Guess a number between 1 and 10 5\n",
            "Your guess was lower, try again\n",
            "Guess a number between 1 and 10 7\n",
            "Your guess was lower, try again\n",
            "Guess a number between 1 and 10 9\n",
            "Your guess was higher, try again\n",
            "Guess a number between 1 and 10 8\n",
            "You Win!\n",
            "you took 4 tries!\n"
          ]
        }
      ]
    },
    {
      "cell_type": "markdown",
      "source": [
        "#10: List Overlap Comprehensions\n",
        "---"
      ],
      "metadata": {
        "id": "8y1KmdS-b34j"
      }
    },
    {
      "cell_type": "code",
      "source": [
        "a = [1, 1, 2, 3, 5, 8, 13, 21, 34, 55, 89]\n",
        "b = [1, 2, 3, 4, 5, 6, 7, 8, 9, 10, 11, 12, 13]\n",
        "c = [i for i in set(a) if i in b]\n",
        "print(c)"
      ],
      "metadata": {
        "colab": {
          "base_uri": "https://localhost:8080/"
        },
        "id": "_efyR1Pob5CF",
        "outputId": "85c01515-3676-445a-c1d1-d20d4e0235b1"
      },
      "execution_count": null,
      "outputs": [
        {
          "output_type": "stream",
          "name": "stdout",
          "text": [
            "[1, 2, 3, 5, 8, 13]\n"
          ]
        }
      ]
    },
    {
      "cell_type": "markdown",
      "source": [
        "#11: Check Primality Functions\n",
        "---"
      ],
      "metadata": {
        "id": "6kYQ6kL-eWLP"
      }
    },
    {
      "cell_type": "code",
      "source": [
        "user_num = int(input(\"Pick a number \"))\n",
        "div = [i for i in range(1,user_num+1) if user_num % i == 0]\n",
        "if len(div)>2:\n",
        "  print(\"It's not a prime number\")\n",
        "else:\n",
        "  print(\"It's a prime number\")\n",
        "\n"
      ],
      "metadata": {
        "id": "DjnmK3HxeZAh",
        "colab": {
          "base_uri": "https://localhost:8080/"
        },
        "outputId": "2ab4d157-e547-4566-f8e9-e66043d34b60"
      },
      "execution_count": null,
      "outputs": [
        {
          "output_type": "stream",
          "name": "stdout",
          "text": [
            "Pick a number 495\n",
            "It's not a prime number\n"
          ]
        }
      ]
    },
    {
      "cell_type": "markdown",
      "source": [
        "#12: List Ends\n",
        "---"
      ],
      "metadata": {
        "id": "avOGgYOsjEeZ"
      }
    },
    {
      "cell_type": "code",
      "source": [
        "import random\n",
        "count = int(input(\"Pick how many numbers to be in this list \"))\n",
        "a = [random.randint(1,50) for i in range(count)]\n",
        "def firstlast(insertlist):\n",
        "  c=[]\n",
        "  c.append(insertlist[0])\n",
        "  c.append(insertlist[-1])\n",
        "  return c\n",
        "print(a)\n",
        "b = firstlast(a)\n",
        "print(b)"
      ],
      "metadata": {
        "colab": {
          "base_uri": "https://localhost:8080/"
        },
        "id": "6-f7Ew3NjIAe",
        "outputId": "f17c1656-6681-46ab-f6cd-2b29c60b7fc7"
      },
      "execution_count": null,
      "outputs": [
        {
          "output_type": "stream",
          "name": "stdout",
          "text": [
            "Pick how many numbers to be in this list 50\n",
            "[3, 41, 43, 6, 48, 43, 28, 32, 33, 40, 10, 49, 21, 47, 50, 37, 6, 10, 26, 12, 18, 8, 40, 47, 27, 13, 6, 6, 27, 3, 35, 36, 30, 3, 43, 1, 29, 3, 20, 5, 49, 19, 11, 2, 27, 33, 24, 31, 48, 27]\n",
            "[3, 27]\n"
          ]
        }
      ]
    },
    {
      "cell_type": "markdown",
      "source": [
        "#13: Fibonacci\n",
        "---"
      ],
      "metadata": {
        "id": "uIHxkOOglUuO"
      }
    },
    {
      "cell_type": "code",
      "source": [
        "\n",
        "def fibonacci():\n",
        "  count = int(input(\"Choose how many numbers you want in the sequence \"))\n",
        "  i = 1\n",
        "  if count == 0:\n",
        "    fib = []\n",
        "  elif count == 1:\n",
        "    fib = [1]\n",
        "  elif count == 2:\n",
        "    fib = [1,1]\n",
        "  elif count > 2:\n",
        "    fib = [1,1]\n",
        "    while i < (count-1):\n",
        "      fib.append(fib[i]+fib[i-1])\n",
        "      i += 1\n",
        "  return fib\n",
        "print(fibonacci())\n",
        "\n",
        "\n"
      ],
      "metadata": {
        "colab": {
          "base_uri": "https://localhost:8080/"
        },
        "id": "H1k0j4EglXgl",
        "outputId": "d7a8d3b7-9027-4f24-f2c8-40716029ecd2"
      },
      "execution_count": null,
      "outputs": [
        {
          "output_type": "stream",
          "name": "stdout",
          "text": [
            "Choose how many numbers you want in the sequence 5\n",
            "[1, 1, 2, 3, 5]\n"
          ]
        }
      ]
    },
    {
      "cell_type": "markdown",
      "source": [
        "#14: List Remove Duplicates\n",
        "---"
      ],
      "metadata": {
        "id": "0Knj2ZVct8Ta"
      }
    },
    {
      "cell_type": "code",
      "source": [
        "#Loop Method\n",
        "import random\n",
        "count = int(input(\"Pick how many numbers to be in this list \"))\n",
        "a = [random.randint(1,10) for i in range(count)]\n",
        "print(a)\n",
        "no_Dupe = []\n",
        "for i in a:\n",
        "  if i not in no_Dupe:\n",
        "    no_Dupe.append(i)\n",
        "no_Dupe.sort()\n",
        "print(no_Dupe)"
      ],
      "metadata": {
        "colab": {
          "base_uri": "https://localhost:8080/"
        },
        "id": "N3Q5PxmEuAzI",
        "outputId": "ddbb61eb-11ba-45b4-df53-da758455bd44"
      },
      "execution_count": null,
      "outputs": [
        {
          "output_type": "stream",
          "name": "stdout",
          "text": [
            "Pick how many numbers to be in this list 15\n",
            "[8, 4, 4, 1, 9, 7, 5, 6, 9, 8, 8, 3, 4, 4, 3]\n",
            "[1, 3, 4, 5, 6, 7, 8, 9]\n"
          ]
        }
      ]
    },
    {
      "cell_type": "code",
      "source": [
        "#Set Method\n",
        "count = int(input(\"Pick how many numbers to be in this list \"))\n",
        "a = [random.randint(1,10) for i in range(count)]\n",
        "print(a)\n",
        "no_Dupe = set(a)\n",
        "print(no_Dupe)"
      ],
      "metadata": {
        "colab": {
          "base_uri": "https://localhost:8080/"
        },
        "id": "RUj1CA8zuqb7",
        "outputId": "7225c6d8-33e7-486c-df24-bdcc7e6f557a"
      },
      "execution_count": null,
      "outputs": [
        {
          "output_type": "stream",
          "name": "stdout",
          "text": [
            "Pick how many numbers to be in this list 15\n",
            "[5, 5, 4, 8, 3, 7, 8, 4, 9, 5, 5, 4, 4, 7, 7]\n",
            "{3, 4, 5, 7, 8, 9}\n"
          ]
        }
      ]
    },
    {
      "cell_type": "markdown",
      "source": [
        "#15: Reverse Word Order\n",
        "---\n",
        "* flips word orders"
      ],
      "metadata": {
        "id": "FZExGFxsv6-B"
      }
    },
    {
      "cell_type": "code",
      "source": [
        "#straightforward\n",
        "name = input(\" 'pick a sentence' \")\n",
        "def reverseword(sentence):\n",
        "  strings = sentence.split()\n",
        "  reversed = strings[::-1]\n",
        "  return  ' '.join(reversed)\n",
        "reverseword(name)"
      ],
      "metadata": {
        "colab": {
          "base_uri": "https://localhost:8080/",
          "height": 53
        },
        "id": "mMSkkGU8wC6m",
        "outputId": "27354783-b6d1-4b75-8578-442bf59dbcc0"
      },
      "execution_count": null,
      "outputs": [
        {
          "name": "stdout",
          "output_type": "stream",
          "text": [
            " 'pick a sentence' i like my name\n"
          ]
        },
        {
          "output_type": "execute_result",
          "data": {
            "text/plain": [
              "'name my like i'"
            ],
            "application/vnd.google.colaboratory.intrinsic+json": {
              "type": "string"
            }
          },
          "metadata": {},
          "execution_count": 76
        }
      ]
    },
    {
      "cell_type": "code",
      "source": [
        "#comprehensive method\n",
        "name = input(\" Pick a sentence \")\n",
        "def reverseword(sentence):\n",
        "  return ' '.join(sentence.split()[::-1])\n",
        "print(reverseword(name))"
      ],
      "metadata": {
        "colab": {
          "base_uri": "https://localhost:8080/"
        },
        "id": "pEuUjHnRw62K",
        "outputId": "9322d21c-5f2b-435d-e180-149a0ecdfa6f"
      },
      "execution_count": null,
      "outputs": [
        {
          "output_type": "stream",
          "name": "stdout",
          "text": [
            " Pick a sentence i like my name\n",
            "name my like i\n"
          ]
        }
      ]
    },
    {
      "cell_type": "markdown",
      "source": [
        "#16: Strong Password Generator\n",
        "---\n",
        "* creates a strong password that has 8 characters, 1 uppercase, 1 lowercase,  1 number and 1 symbol"
      ],
      "metadata": {
        "id": "rcQ0qcSyeyw8"
      }
    },
    {
      "cell_type": "code",
      "source": [
        "# Checks if your password is strong or weak\n",
        "import random\n",
        "\n",
        "while True:\n",
        "  s = \"abcdefghijklmnopqrstuvwxyz01234567890ABCDEFGHIJKLMNOPQRSTUVWXYZ!@#$%^&*()?\"\n",
        "  passlen = 8\n",
        "  p = ''.join(random.sample(s,passlen))\n",
        "\n",
        "  def check_upper(pw):\n",
        "    global uppercase\n",
        "    uppercase = False\n",
        "    for i in pw:\n",
        "      if i.isupper():\n",
        "        uppercase = True\n",
        "        break\n",
        "\n",
        "\n",
        "  def check_lower(pw):\n",
        "    global lowercase\n",
        "    lowercase = False\n",
        "    for i in pw:\n",
        "      if i.islower():\n",
        "        lowercase = True\n",
        "        break\n",
        "\n",
        "  def check_special(pw):\n",
        "    global special\n",
        "    special = False\n",
        "    for i in pw:\n",
        "      if i in \"!@#$%^&*-?\\/\":\n",
        "        special = True\n",
        "        break\n",
        "  def check_number(pw):\n",
        "    global number\n",
        "    number = False\n",
        "    for i in pw:\n",
        "      if i in \"!@#$%^&*-?\\/\":\n",
        "        number = True\n",
        "        break\n",
        "\n",
        "  check_upper(p)\n",
        "  check_lower(p)\n",
        "  check_special(p)\n",
        "  check_number(p)\n",
        "\n",
        "  if uppercase == True and lowercase == True and special == True and number == True:\n",
        "    break\n",
        "\n",
        "print(\"Would you like this strong password?\")\n",
        "print(p)\n"
      ],
      "metadata": {
        "colab": {
          "base_uri": "https://localhost:8080/"
        },
        "id": "DCRR086Ne5d5",
        "outputId": "2454cb45-acd0-48b0-c458-f4f6acc8e6f3"
      },
      "execution_count": null,
      "outputs": [
        {
          "output_type": "stream",
          "name": "stdout",
          "text": [
            "Would you like this strong password?\n",
            "?6bNmH)G\n"
          ]
        }
      ]
    },
    {
      "cell_type": "markdown",
      "source": [
        "#17: Decoding a Webpage\n",
        "* takes in a webpage and returns the article titles\n",
        "---"
      ],
      "metadata": {
        "id": "9-Be0NrRGv_W"
      }
    },
    {
      "cell_type": "code",
      "source": [
        "import requests\n",
        "from bs4 import BeautifulSoup\n",
        "\n",
        "base_url = 'http://www.nytimes.com'\n",
        "r = requests.get(base_url)\n",
        "soup = BeautifulSoup(r.text)\n",
        "for story_heading in soup.find_all(class_=\"indicate-hover css-91bpc3\"):\n",
        "  if story_heading.a:\n",
        "    print(story_heading.a.text)\n",
        "  else:\n",
        "    print(story_heading.contents[0])"
      ],
      "metadata": {
        "colab": {
          "base_uri": "https://localhost:8080/"
        },
        "id": "8OFob9BSHLvW",
        "outputId": "ae079200-41e7-4008-f591-5d3698483f87"
      },
      "execution_count": null,
      "outputs": [
        {
          "output_type": "stream",
          "name": "stdout",
          "text": [
            "Supreme Court Allows Suit Claiming Politically Motivated Arrest\n",
            "When the Only Escape From War in Gaza Is to Buy a Way Out\n",
            "Biden’s Declining Support Among Women Is a Warning for Democrats\n",
            "Asian Fears Come True as North Korea’s Russia Pact Amplifies Threat\n",
            "The Treaty Also Represents a Headache for China\n",
            "‘Extremely Dangerous’ Floods Threaten New Mexico After Wildfires Kill 2\n",
            "Heat Wave Pummels Eastern U.S. for 4th Day\n",
            "The Human Toll of Nuclear Testing\n",
            "This Is How Beer Tasted 3,000 Years Ago\n",
            "What Happened When Brooklyn Tried to Integrate Its Middle Schools\n",
            "George Woodwell, Scientist Who Helped Shape Environmental Policy, Dies at 95\n",
            "Today Is the Longest Day of the Year in the Northern Hemisphere\n",
            "Ancient Shipwreck Preserves a Bronze Age Time Capsule\n"
          ]
        }
      ]
    },
    {
      "cell_type": "markdown",
      "source": [
        "#18: Cows and Bulls\n",
        "---\n",
        "* insert deescription"
      ],
      "metadata": {
        "id": "8ev3-8--O1br"
      }
    },
    {
      "cell_type": "code",
      "source": [
        "import random\n",
        "#class Player(self,number):\n",
        " # def __init__(self):\n",
        "  #  self.cows = 0\n",
        "   # self.bull = 0\n",
        "  #\n",
        "  #def win(self):\n",
        "   # self.cows +=1\n",
        "\n",
        "\n",
        "\n",
        "\n",
        "def generate_randnum():\n",
        "  b = [random.randint(1,9) for i in range(4)]\n",
        "  return b\n",
        "randomnumber = generate_randnum()\n",
        "\n",
        "while True:\n",
        "  play1cow = 0\n",
        "  play1bull = 0\n",
        "  play2cow = 0\n",
        "  play2bull = 0\n",
        "\n",
        "  player1_guess = (input('Player 1, guess the four-digit number'))\n",
        "  play1 = [int(i) for i in player1_guess]\n",
        "  player2_guess = (input('Player 2, guess the four-digit number'))\n",
        "  play2 = [int(i) for i in player2_guess]\n",
        "\n",
        "  for i in range(4):\n",
        "    if play1[i] == randomnumber[i]:\n",
        "        play1cow += 1\n",
        "    if play1[i] != randomnumber[i]:\n",
        "        play1bull +=1\n",
        "    if play2[i] == randomnumber[i]:\n",
        "        play2cow += 1\n",
        "    if play2[i] != randomnumber[i]:\n",
        "        play2bull += 1\n",
        "  print(f\"player 1 has {play1cow} cows and {play1bull} bulls\")\n",
        "  print(f\"player 2 has {play2cow} cows and {play2bull} bulls\")\n",
        "\n",
        "  if play1cow == 4:\n",
        "    print(\"player 1 wins!\")\n",
        "    break\n",
        "  elif play2cow == 4:\n",
        "    print(\"player 2 wins!\")\n",
        "    break\n",
        "  if player1_guess == \"quit\":\n",
        "    break\n",
        "\n",
        "\n"
      ],
      "metadata": {
        "id": "nUJuGMuDO_dG",
        "colab": {
          "base_uri": "https://localhost:8080/"
        },
        "outputId": "c6736e8c-5e34-418e-a087-b050c790ee86"
      },
      "execution_count": null,
      "outputs": [
        {
          "output_type": "stream",
          "name": "stdout",
          "text": [
            "Player 1, guess the four-digit number3721\n",
            "Player 2, guess the four-digit number4567\n",
            "player 1 has 0 cows and 4 bulls\n",
            "player 2 has 1 cows and 3 bulls\n",
            "Player 1, guess the four-digit number4568\n",
            "Player 2, guess the four-digit number4578\n",
            "player 1 has 1 cows and 3 bulls\n",
            "player 2 has 1 cows and 3 bulls\n",
            "Player 1, guess the four-digit number3456\n",
            "Player 2, guess the four-digit number2345\n",
            "player 1 has 1 cows and 3 bulls\n",
            "player 2 has 1 cows and 3 bulls\n",
            "Player 1, guess the four-digit number2476\n",
            "Player 2, guess the four-digit number1203\n",
            "player 1 has 1 cows and 3 bulls\n",
            "player 2 has 0 cows and 4 bulls\n",
            "Player 1, guess the four-digit number4478\n",
            "Player 2, guess the four-digit number1234\n",
            "player 1 has 1 cows and 3 bulls\n",
            "player 2 has 0 cows and 4 bulls\n",
            "Player 1, guess the four-digit number8456\n",
            "Player 2, guess the four-digit number1234\n",
            "player 1 has 1 cows and 3 bulls\n",
            "player 2 has 0 cows and 4 bulls\n",
            "Player 1, guess the four-digit number5892\n",
            "Player 2, guess the four-digit number2938\n",
            "player 1 has 0 cows and 4 bulls\n",
            "player 2 has 0 cows and 4 bulls\n",
            "Player 1, guess the four-digit number8412\n",
            "Player 2, guess the four-digit number7586\n",
            "player 1 has 0 cows and 4 bulls\n",
            "player 2 has 2 cows and 2 bulls\n",
            "Player 1, guess the four-digit number3486\n",
            "Player 2, guess the four-digit number5686\n",
            "player 1 has 2 cows and 2 bulls\n",
            "player 2 has 2 cows and 2 bulls\n",
            "Player 1, guess the four-digit number1286\n",
            "Player 2, guess the four-digit number2386\n",
            "player 1 has 2 cows and 2 bulls\n",
            "player 2 has 3 cows and 1 bulls\n",
            "Player 1, guess the four-digit number4386\n",
            "Player 2, guess the four-digit number5386\n",
            "player 1 has 4 cows and 0 bulls\n",
            "player 2 has 3 cows and 1 bulls\n",
            "player 1 wins!\n"
          ]
        }
      ]
    },
    {
      "cell_type": "markdown",
      "source": [
        "#19: Decode a Web Page part 2\n",
        "---\n"
      ],
      "metadata": {
        "id": "8dK34UtIbW_h"
      }
    },
    {
      "cell_type": "code",
      "source": [],
      "metadata": {
        "id": "bQNH15tEbbZ8"
      },
      "execution_count": null,
      "outputs": []
    }
  ]
}